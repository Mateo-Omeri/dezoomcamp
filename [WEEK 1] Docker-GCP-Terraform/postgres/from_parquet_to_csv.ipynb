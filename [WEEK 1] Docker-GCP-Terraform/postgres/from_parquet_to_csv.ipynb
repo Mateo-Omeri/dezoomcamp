{
 "cells": [
  {
   "cell_type": "code",
   "execution_count": null,
   "metadata": {},
   "outputs": [],
   "source": [
    "\n",
    "import pandas as pd\n",
    "import pyarrow.parquet as pq\n",
    "\n",
    "# Read parquet file\n",
    "parquet_file = pq.read_table('yellow_tripdata_2021-01.parquet')\n",
    "\n",
    "# Transform into datafrme\n",
    "df = parquet_file.to_pandas()\n",
    "\n",
    "# Save it as csv file\n",
    "df.to_csv('yellow_tripdata_2021-01.csv', index=False)\n"
   ]
  }
 ],
 "metadata": {
  "kernelspec": {
   "display_name": "base",
   "language": "python",
   "name": "python3"
  },
  "language_info": {
   "codemirror_mode": {
    "name": "ipython",
    "version": 3
   },
   "file_extension": ".py",
   "mimetype": "text/x-python",
   "name": "python",
   "nbconvert_exporter": "python",
   "pygments_lexer": "ipython3",
   "version": "3.12.1"
  }
 },
 "nbformat": 4,
 "nbformat_minor": 2
}
